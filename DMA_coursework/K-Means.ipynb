{
 "cells": [
  {
   "cell_type": "code",
   "execution_count": 1,
   "id": "5884523b",
   "metadata": {},
   "outputs": [
    {
     "data": {
      "text/plain": [
       "(9374, 26)"
      ]
     },
     "execution_count": 1,
     "metadata": {},
     "output_type": "execute_result"
    }
   ],
   "source": [
    "import pandas as pd\n",
    "import numpy as np\n",
    "import random\n",
    "import math\n",
    "from sklearn.cluster import KMeans\n",
    "\n",
    "#https://scikit-learn.org/stable/modules/generated/sklearn.cluster.KMeans.html\n",
    "\n",
    "data = pd.read_csv('processedData.csv')\n",
    "data.shape"
   ]
  },
  {
   "cell_type": "code",
   "execution_count": 42,
   "id": "a348f03a",
   "metadata": {},
   "outputs": [
    {
     "data": {
      "text/plain": [
       "Accident_Index                                  object\n",
       "Location_Easting_OSGR                            int64\n",
       "Location_Northing_OSGR                           int64\n",
       "Longitude                                      float64\n",
       "Latitude                                       float64\n",
       "Accident_Severity                                int64\n",
       "Number_of_Vehicles                               int64\n",
       "Number_of_Casualties                             int64\n",
       "Day_of_Week                                      int64\n",
       "Local_Authority_(District)                       int64\n",
       "Local_Authority_(Highway)                       object\n",
       "1st_Road_Class                                   int64\n",
       "1st_Road_Number                                  int64\n",
       "Road_Type                                        int64\n",
       "Speed_limit                                      int64\n",
       "Junction_Detail                                  int64\n",
       "2nd_Road_Number                                  int64\n",
       "Pedestrian_Crossing-Physical_Facilities          int64\n",
       "Light_Conditions                                 int64\n",
       "Weather_Conditions                               int64\n",
       "Road_Surface_Conditions                          int64\n",
       "Urban_or_Rural_Area                              int64\n",
       "Did_Police_Officer_Attend_Scene_of_Accident      int64\n",
       "LSOA_of_Accident_Location                       object\n",
       "DateVals                                         int64\n",
       "TimeVals                                         int64\n",
       "class                                            int32\n",
       "dtype: object"
      ]
     },
     "execution_count": 42,
     "metadata": {},
     "output_type": "execute_result"
    }
   ],
   "source": [
    "data.dtypes"
   ]
  },
  {
   "cell_type": "code",
   "execution_count": 43,
   "id": "2bc2d7e2",
   "metadata": {},
   "outputs": [],
   "source": [
    "#remove columns that are not important to this analysis\n",
    "excluded = ['Accident_Index', 'Date', 'Time', 'Location_Northing_OSGR', 'Location_Easting_OSGR', 'Longitude', 'Latitude', 'Local_Authority_(Highway)', 'Local_Authority_(District)', 'LSOA_of_Accident_Location']\n",
    "cols = list(dict(data.dtypes).keys())\n",
    "cols = [val for val in cols if val not in excluded]"
   ]
  },
  {
   "cell_type": "code",
   "execution_count": 47,
   "id": "ec36817e",
   "metadata": {},
   "outputs": [],
   "source": [
    "# Convert DataFrame to matrix\n",
    "matr = data[cols].values\n",
    "# Using sklearn\n",
    "# 3 centroid cause 5 created odd cluster with 4 samples\n",
    "\n",
    "km = KMeans(n_clusters=3)\n",
    "km.fit(matr)\n",
    "# Get cluster assignment labels\n",
    "labels = km.labels_\n",
    "# Format results into DataFrame\n",
    "data['class'] = labels"
   ]
  },
  {
   "cell_type": "code",
   "execution_count": 91,
   "id": "9f8ae419",
   "metadata": {},
   "outputs": [
    {
     "name": "stdout",
     "output_type": "stream",
     "text": [
      "class: 0 shape: (4332, 27)\n",
      "class: 1 shape: (854, 27)\n",
      "class: 2 shape: (4188, 27)\n"
     ]
    }
   ],
   "source": [
    "for i in data['class'].unique():\n",
    "    print('class:', i, 'shape:', data.loc[data['class'] == i].shape)"
   ]
  },
  {
   "cell_type": "code",
   "execution_count": 90,
   "id": "9ac697d3",
   "metadata": {},
   "outputs": [
    {
     "data": {
      "text/html": [
       "<div>\n",
       "<style scoped>\n",
       "    .dataframe tbody tr th:only-of-type {\n",
       "        vertical-align: middle;\n",
       "    }\n",
       "\n",
       "    .dataframe tbody tr th {\n",
       "        vertical-align: top;\n",
       "    }\n",
       "\n",
       "    .dataframe thead th {\n",
       "        text-align: right;\n",
       "    }\n",
       "</style>\n",
       "<table border=\"1\" class=\"dataframe\">\n",
       "  <thead>\n",
       "    <tr style=\"text-align: right;\">\n",
       "      <th></th>\n",
       "      <th>class</th>\n",
       "      <th>name</th>\n",
       "      <th>percDiff</th>\n",
       "      <th>percInClst</th>\n",
       "      <th>percInData</th>\n",
       "      <th>value</th>\n",
       "    </tr>\n",
       "  </thead>\n",
       "  <tbody>\n",
       "    <tr>\n",
       "      <th>177</th>\n",
       "      <td>1.0</td>\n",
       "      <td>Junction_Detail</td>\n",
       "      <td>-7.083472</td>\n",
       "      <td>20.023419</td>\n",
       "      <td>27.106891</td>\n",
       "      <td>0.0</td>\n",
       "    </tr>\n",
       "    <tr>\n",
       "      <th>155</th>\n",
       "      <td>1.0</td>\n",
       "      <td>Road_Type</td>\n",
       "      <td>-6.392963</td>\n",
       "      <td>81.381733</td>\n",
       "      <td>87.774696</td>\n",
       "      <td>6.0</td>\n",
       "    </tr>\n",
       "    <tr>\n",
       "      <th>10</th>\n",
       "      <td>1.0</td>\n",
       "      <td>Number_of_Vehicles</td>\n",
       "      <td>-5.082997</td>\n",
       "      <td>27.400468</td>\n",
       "      <td>32.483465</td>\n",
       "      <td>1.0</td>\n",
       "    </tr>\n",
       "    <tr>\n",
       "      <th>42</th>\n",
       "      <td>0.0</td>\n",
       "      <td>1st_Road_Class</td>\n",
       "      <td>-3.966847</td>\n",
       "      <td>59.879963</td>\n",
       "      <td>63.846810</td>\n",
       "      <td>3.0</td>\n",
       "    </tr>\n",
       "    <tr>\n",
       "      <th>322</th>\n",
       "      <td>2.0</td>\n",
       "      <td>Pedestrian_Crossing-Physical_Facilities</td>\n",
       "      <td>-3.527034</td>\n",
       "      <td>66.069723</td>\n",
       "      <td>69.596757</td>\n",
       "      <td>0.0</td>\n",
       "    </tr>\n",
       "    <tr>\n",
       "      <th>...</th>\n",
       "      <td>...</td>\n",
       "      <td>...</td>\n",
       "      <td>...</td>\n",
       "      <td>...</td>\n",
       "      <td>...</td>\n",
       "      <td>...</td>\n",
       "    </tr>\n",
       "    <tr>\n",
       "      <th>100</th>\n",
       "      <td>1.0</td>\n",
       "      <td>1st_Road_Number</td>\n",
       "      <td>12.345673</td>\n",
       "      <td>13.583138</td>\n",
       "      <td>1.237465</td>\n",
       "      <td>3218.0</td>\n",
       "    </tr>\n",
       "    <tr>\n",
       "      <th>99</th>\n",
       "      <td>1.0</td>\n",
       "      <td>1st_Road_Number</td>\n",
       "      <td>12.877814</td>\n",
       "      <td>14.168618</td>\n",
       "      <td>1.290804</td>\n",
       "      <td>4090.0</td>\n",
       "    </tr>\n",
       "    <tr>\n",
       "      <th>98</th>\n",
       "      <td>1.0</td>\n",
       "      <td>1st_Road_Number</td>\n",
       "      <td>16.922086</td>\n",
       "      <td>18.618267</td>\n",
       "      <td>1.696181</td>\n",
       "      <td>4140.0</td>\n",
       "    </tr>\n",
       "    <tr>\n",
       "      <th>97</th>\n",
       "      <td>1.0</td>\n",
       "      <td>1st_Road_Number</td>\n",
       "      <td>30.225613</td>\n",
       "      <td>33.255269</td>\n",
       "      <td>3.029656</td>\n",
       "      <td>4020.0</td>\n",
       "    </tr>\n",
       "    <tr>\n",
       "      <th>46</th>\n",
       "      <td>1.0</td>\n",
       "      <td>1st_Road_Class</td>\n",
       "      <td>36.153190</td>\n",
       "      <td>100.000000</td>\n",
       "      <td>63.846810</td>\n",
       "      <td>3.0</td>\n",
       "    </tr>\n",
       "  </tbody>\n",
       "</table>\n",
       "<p>359 rows × 6 columns</p>\n",
       "</div>"
      ],
      "text/plain": [
       "     class                                     name   percDiff  percInClst  \\\n",
       "177    1.0                          Junction_Detail  -7.083472   20.023419   \n",
       "155    1.0                                Road_Type  -6.392963   81.381733   \n",
       "10     1.0                       Number_of_Vehicles  -5.082997   27.400468   \n",
       "42     0.0                           1st_Road_Class  -3.966847   59.879963   \n",
       "322    2.0  Pedestrian_Crossing-Physical_Facilities  -3.527034   66.069723   \n",
       "..     ...                                      ...        ...         ...   \n",
       "100    1.0                          1st_Road_Number  12.345673   13.583138   \n",
       "99     1.0                          1st_Road_Number  12.877814   14.168618   \n",
       "98     1.0                          1st_Road_Number  16.922086   18.618267   \n",
       "97     1.0                          1st_Road_Number  30.225613   33.255269   \n",
       "46     1.0                           1st_Road_Class  36.153190  100.000000   \n",
       "\n",
       "     percInData   value  \n",
       "177   27.106891     0.0  \n",
       "155   87.774696     6.0  \n",
       "10    32.483465     1.0  \n",
       "42    63.846810     3.0  \n",
       "322   69.596757     0.0  \n",
       "..          ...     ...  \n",
       "100    1.237465  3218.0  \n",
       "99     1.290804  4090.0  \n",
       "98     1.696181  4140.0  \n",
       "97     3.029656  4020.0  \n",
       "46    63.846810     3.0  \n",
       "\n",
       "[359 rows x 6 columns]"
      ]
     },
     "execution_count": 90,
     "metadata": {},
     "output_type": "execute_result"
    }
   ],
   "source": [
    "clster0 = data.loc[data['class'] == 0]\n",
    "clster1 = data.loc[data['class'] == 1]\n",
    "clster2 = data.loc[data['class'] == 2]\n",
    "\n",
    "clsts = [clster0, clster1, clster2]\n",
    "\n",
    "AttriDiffDF = pd.DataFrame()\n",
    "\n",
    "ignoreCols = ['TimeVals', 'DateVals', 'class']\n",
    "\n",
    "for col in cols:\n",
    "    if (col in ignoreCols):\n",
    "        continue\n",
    "    dSamps = data.shape[0]\n",
    "    colDict = dict(data[col].value_counts())\n",
    "    for cl in range(len(clsts)):\n",
    "        clst = clsts[cl]\n",
    "        cSamps = clst.shape[0]\n",
    "        cltDict = dict(clst[col].value_counts())\n",
    "        \n",
    "        for key in cltDict.keys():\n",
    "            dPerc = colDict[key] / dSamps *100\n",
    "            cPerc = cltDict[key] / cSamps *100\n",
    "            vals = {'name': col, 'class': cl, 'value': key, 'percInData': dPerc, 'percInClst': cPerc, 'percDiff': cPerc - dPerc}\n",
    "            AttriDiffDF = AttriDiffDF.append(vals, ignore_index = True)\n",
    "            \n",
    "AttriDiffDF.sort_values(by='percDiff')"
   ]
  },
  {
   "cell_type": "code",
   "execution_count": 102,
   "id": "0177fd27",
   "metadata": {},
   "outputs": [
    {
     "name": "stdout",
     "output_type": "stream",
     "text": [
      "mean:  0.4387171771859944\n",
      "std:  3.0191129994604906\n",
      "upper limit:  9.496056175567466\n",
      "lower limit:  -8.618621821195477\n"
     ]
    },
    {
     "data": {
      "text/plain": [
       "<AxesSubplot:>"
      ]
     },
     "execution_count": 102,
     "metadata": {},
     "output_type": "execute_result"
    },
    {
     "data": {
      "image/png": "[encoded data removed]",
      "text/plain": [
       "<Figure size 432x288 with 1 Axes>"
      ]
     },
     "metadata": {
      "needs_background": "light"
     },
     "output_type": "display_data"
    }
   ],
   "source": [
    "cSTD = AttriDiffDF['percDiff'].std()\n",
    "cMean = AttriDiffDF['percDiff'].mean()\n",
    "cLow = cMean - 3 * cSTD\n",
    "cUp = cMean + 3 * cSTD\n",
    "\n",
    "print('mean: ', cMean)\n",
    "print('std: ', cSTD)\n",
    "print('upper limit: ', cMean + 3 * cSTD)\n",
    "print('lower limit: ', cMean - 3 * cSTD)\n",
    "\n",
    "AttriDiffDF['percDiff'].hist(bins=30)"
   ]
  },
  {
   "cell_type": "code",
   "execution_count": 112,
   "id": "6b3d4aef",
   "metadata": {},
   "outputs": [
    {
     "data": {
      "text/plain": [
       "<AxesSubplot:>"
      ]
     },
     "execution_count": 112,
     "metadata": {},
     "output_type": "execute_result"
    },
    {
     "data": {
      "image/png": "[encoded data removed]",
      "text/plain": [
       "<Figure size 432x288 with 1 Axes>"
      ]
     },
     "metadata": {
      "needs_background": "light"
     },
     "output_type": "display_data"
    }
   ],
   "source": [
    "AttriDiffDF.loc[AttriDiffDF['class'] == 0]['percDiff'].hist(bins=30, alpha=0.5)\n",
    "AttriDiffDF.loc[AttriDiffDF['class'] == 1]['percDiff'].hist(bins=30, alpha=0.5)\n",
    "AttriDiffDF.loc[AttriDiffDF['class'] == 2]['percDiff'].hist(bins=30, alpha=0.5)"
   ]
  },
  {
   "cell_type": "code",
   "execution_count": 113,
   "id": "63d20ea2",
   "metadata": {},
   "outputs": [
    {
     "data": {
      "text/plain": [
       "<AxesSubplot:>"
      ]
     },
     "execution_count": 113,
     "metadata": {},
     "output_type": "execute_result"
    },
    {
     "data": {
      "image/png": "[encoded data removed]",
      "text/plain": [
       "<Figure size 432x288 with 1 Axes>"
      ]
     },
     "metadata": {
      "needs_background": "light"
     },
     "output_type": "display_data"
    }
   ],
   "source": [
    "AttriDiffDF.loc[AttriDiffDF['class'] == 0]['percDiff'].hist(bins=30)"
   ]
  },
  {
   "cell_type": "code",
   "execution_count": 108,
   "id": "9ca4245f",
   "metadata": {},
   "outputs": [
    {
     "data": {
      "text/plain": [
       "<AxesSubplot:>"
      ]
     },
     "execution_count": 108,
     "metadata": {},
     "output_type": "execute_result"
    },
    {
     "data": {
      "image/png": "[encoded data removed]",
      "text/plain": [
       "<Figure size 432x288 with 1 Axes>"
      ]
     },
     "metadata": {
      "needs_background": "light"
     },
     "output_type": "display_data"
    }
   ],
   "source": [
    "AttriDiffDF.loc[AttriDiffDF['class'] == 1]['percDiff'].hist(bins=30)"
   ]
  },
  {
   "cell_type": "code",
   "execution_count": 107,
   "id": "1e649180",
   "metadata": {},
   "outputs": [
    {
     "data": {
      "text/plain": [
       "<AxesSubplot:>"
      ]
     },
     "execution_count": 107,
     "metadata": {},
     "output_type": "execute_result"
    },
    {
     "data": {
      "image/png": "[encoded data removed]",
      "text/plain": [
       "<Figure size 432x288 with 1 Axes>"
      ]
     },
     "metadata": {
      "needs_background": "light"
     },
     "output_type": "display_data"
    }
   ],
   "source": [
    "AttriDiffDF.loc[AttriDiffDF['class'] == 2]['percDiff'].hist(bins=30)"
   ]
  },
  {
   "cell_type": "code",
   "execution_count": 115,
   "id": "0c935890",
   "metadata": {},
   "outputs": [
    {
     "data": {
      "text/plain": [
       "1079    89\n",
       "1019    85\n",
       "959     84\n",
       "1109    82\n",
       "719     81\n",
       "        ..\n",
       "468      1\n",
       "436      1\n",
       "428      1\n",
       "420      1\n",
       "1407     1\n",
       "Name: TimeVals, Length: 1216, dtype: int64"
      ]
     },
     "execution_count": 115,
     "metadata": {},
     "output_type": "execute_result"
    }
   ],
   "source": [
    "data['TimeVals'].value_counts()"
   ]
  },
  {
   "cell_type": "code",
   "execution_count": null,
   "id": "3452957c",
   "metadata": {},
   "outputs": [],
   "source": []
  }
 ],
 "metadata": {
  "kernelspec": {
   "display_name": "Python 3",
   "language": "python",
   "name": "python3"
  },
  "language_info": {
   "codemirror_mode": {
    "name": "ipython",
    "version": 3
   },
   "file_extension": ".py",
   "mimetype": "text/x-python",
   "name": "python",
   "nbconvert_exporter": "python",
   "pygments_lexer": "ipython3",
   "version": "3.8.8"
  }
 },
 "nbformat": 4,
 "nbformat_minor": 5
}

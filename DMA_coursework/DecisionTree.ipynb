{
 "cells": [
  {
   "cell_type": "code",
   "execution_count": 21,
   "id": "ed4bb1c4",
   "metadata": {},
   "outputs": [
    {
     "data": {
      "text/plain": [
       "Accident_Index                                  object\n",
       "Location_Easting_OSGR                            int64\n",
       "Location_Northing_OSGR                           int64\n",
       "Longitude                                      float64\n",
       "Latitude                                       float64\n",
       "Accident_Severity                                int64\n",
       "Number_of_Vehicles                               int64\n",
       "Number_of_Casualties                             int64\n",
       "Date                                            object\n",
       "Day_of_Week                                      int64\n",
       "Time                                            object\n",
       "Local_Authority_(District)                       int64\n",
       "Local_Authority_(Highway)                       object\n",
       "1st_Road_Class                                   int64\n",
       "1st_Road_Number                                  int64\n",
       "Road_Type                                        int64\n",
       "Speed_limit                                      int64\n",
       "Junction_Detail                                  int64\n",
       "2nd_Road_Number                                  int64\n",
       "Pedestrian_Crossing-Physical_Facilities          int64\n",
       "Light_Conditions                                 int64\n",
       "Weather_Conditions                               int64\n",
       "Road_Surface_Conditions                          int64\n",
       "Urban_or_Rural_Area                              int64\n",
       "Did_Police_Officer_Attend_Scene_of_Accident      int64\n",
       "LSOA_of_Accident_Location                       object\n",
       "DateVals                                         int64\n",
       "TimeVals                                         int64\n",
       "dtype: object"
      ]
     },
     "execution_count": 21,
     "metadata": {},
     "output_type": "execute_result"
    }
   ],
   "source": [
    "import pandas as pd\n",
    "import numpy as np\n",
    "import random\n",
    "import math\n",
    "from sklearn.tree import DecisionTreeClassifier\n",
    "from sklearn.model_selection import train_test_split\n",
    "from sklearn.metrics import accuracy_score\n",
    "\n",
    "#https://www.youtube.com/watch?v=7eh4d6sabA0\n",
    "\n",
    "data = pd.read_csv('processedData.csv')\n",
    "data.shape\n",
    "data.dtypes"
   ]
  },
  {
   "cell_type": "code",
   "execution_count": 22,
   "id": "75c0ce01",
   "metadata": {},
   "outputs": [],
   "source": [
    "#remove columns that are not important to this analysis\n",
    "excluded = ['Accident_Index', 'Date', 'Time', 'Location_Northing_OSGR', 'Location_Easting_OSGR', 'Local_Authority_(Highway)', 'LSOA_of_Accident_Location']\n",
    "targetCol = 'Speed_limit'\n",
    "excluded.append(targetCol)"
   ]
  },
  {
   "cell_type": "code",
   "execution_count": 23,
   "id": "a23aa255",
   "metadata": {},
   "outputs": [
    {
     "data": {
      "text/plain": [
       "0.9752559726962458"
      ]
     },
     "execution_count": 23,
     "metadata": {},
     "output_type": "execute_result"
    }
   ],
   "source": [
    "#partition data into test an training sets\n",
    "x = data.drop(columns=excluded)\n",
    "y = data[targetCol]\n",
    "x_trn, x_tst, y_trn, y_tst = train_test_split(x, y, test_size = 0.25)\n",
    "\n",
    "#create Decision Tree\n",
    "model = DecisionTreeClassifier()\n",
    "model.fit(x_trn, y_trn)\n",
    "\n",
    "#Test accuracy\n",
    "predic = model.predict(x_tst)\n",
    "accur = accuracy_score(y_tst, predic)\n",
    "accur"
   ]
  },
  {
   "cell_type": "code",
   "execution_count": null,
   "id": "b22e6eff",
   "metadata": {},
   "outputs": [],
   "source": []
  }
 ],
 "metadata": {
  "kernelspec": {
   "display_name": "Python 3",
   "language": "python",
   "name": "python3"
  },
  "language_info": {
   "codemirror_mode": {
    "name": "ipython",
    "version": 3
   },
   "file_extension": ".py",
   "mimetype": "text/x-python",
   "name": "python",
   "nbconvert_exporter": "python",
   "pygments_lexer": "ipython3",
   "version": "3.8.8"
  }
 },
 "nbformat": 4,
 "nbformat_minor": 5
}

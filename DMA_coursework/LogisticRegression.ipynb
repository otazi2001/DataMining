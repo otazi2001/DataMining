{
 "cells": [
  {
   "cell_type": "code",
   "execution_count": 11,
   "id": "4407085d",
   "metadata": {},
   "outputs": [
    {
     "data": {
      "text/plain": [
       "(9374, 55)"
      ]
     },
     "execution_count": 11,
     "metadata": {},
     "output_type": "execute_result"
    }
   ],
   "source": [
    "import pandas as pd\n",
    "import numpy as np\n",
    "import random\n",
    "import math\n",
    "from sklearn.linear_model import LogisticRegression\n",
    "from sklearn.model_selection import train_test_split\n",
    "from sklearn.metrics import accuracy_score\n",
    "\n",
    "#https://towardsdatascience.com/logistic-regression-a-simplified-approach-using-python-c4bc81a87c31\n",
    "#https://scikit-learn.org/stable/modules/generated/sklearn.linear_model.LogisticRegression.html#examples-using-sklearn-linear-model-logisticregression\n",
    "\n",
    "data = pd.read_csv('processedOneHotData.csv')\n",
    "data.shape"
   ]
  },
  {
   "cell_type": "code",
   "execution_count": 19,
   "id": "7f2ae66d",
   "metadata": {},
   "outputs": [],
   "source": [
    "#remove columns that are not important to this analysis\n",
    "excluded = ['Accident_Index', 'Location_Northing_OSGR', 'Location_Easting_OSGR', 'Local_Authority_(Highway)', 'Local_Authority_(District)', 'LSOA_of_Accident_Location', '1st_Road_Number', '2nd_Road_Number']\n",
    "targetCol = 'Number_of_Casualties'\n",
    "excluded.append(targetCol)"
   ]
  },
  {
   "cell_type": "code",
   "execution_count": 20,
   "id": "0aed3f03",
   "metadata": {},
   "outputs": [
    {
     "data": {
      "text/plain": [
       "0.882679180887372"
      ]
     },
     "execution_count": 20,
     "metadata": {},
     "output_type": "execute_result"
    }
   ],
   "source": [
    "#partition data into test an training sets\n",
    "x = data.drop(columns=excluded)\n",
    "y = data[targetCol]\n",
    "x_trn, x_tst, y_trn, y_tst = train_test_split(x, y, test_size = 0.25)\n",
    "\n",
    "#create regression algorithm\n",
    "#saga for fast multinomial/multiclass data\n",
    "model = LogisticRegression(max_iter = 9000, solver = 'saga')\n",
    "model.fit(x_trn, y_trn)\n",
    "\n",
    "#Test accuracy\n",
    "predic = model.predict(x_tst)\n",
    "accur = accuracy_score(y_tst, predic)\n",
    "accur"
   ]
  },
  {
   "cell_type": "code",
   "execution_count": 14,
   "id": "9da10e08",
   "metadata": {},
   "outputs": [],
   "source": [
    "# depeding on the number of possible classes/labes the logistic \n",
    "# regression creates as many formulas for each possible answer\n",
    "# when making a prediction it runs all formulas and the one closest \n",
    "# to 1 is probably the most appropriate label/class"
   ]
  },
  {
   "cell_type": "code",
   "execution_count": 42,
   "id": "a08f3059",
   "metadata": {},
   "outputs": [
    {
     "data": {
      "text/plain": [
       "array([1, 2, 3, 6])"
      ]
     },
     "execution_count": 42,
     "metadata": {},
     "output_type": "execute_result"
    }
   ],
   "source": [
    "model.classes_"
   ]
  },
  {
   "cell_type": "code",
   "execution_count": 43,
   "id": "9368b528",
   "metadata": {},
   "outputs": [
    {
     "data": {
      "text/plain": [
       "array([[-1.91535635e-03,  2.69761086e-03,  2.18940890e-03,\n",
       "         1.55554317e-02, -2.20151604e-03, -1.12264732e-02,\n",
       "        -5.62952690e-03,  1.43514344e-02,  1.46032300e-04,\n",
       "        -1.69547680e-02, -1.04312439e-01,  3.40699461e-04,\n",
       "        -3.98945536e-02, -1.59433270e-03, -3.19669600e-03,\n",
       "         3.81213806e-04,  1.09390325e-03,  4.26783750e-03,\n",
       "        -4.66866122e-05, -1.19324958e-04],\n",
       "       [ 1.49232857e-03, -5.75915062e-03, -1.80149240e-04,\n",
       "        -3.64341389e-03, -8.31431860e-04,  4.93297976e-03,\n",
       "        -1.88123911e-02, -1.34239683e-02, -1.95916349e-04,\n",
       "        -9.31127959e-03,  2.45230883e-02, -4.51327178e-05,\n",
       "         1.49355343e-02,  5.33782390e-04,  6.84674097e-04,\n",
       "         1.51636627e-03, -5.20574028e-04, -2.60885127e-04,\n",
       "        -2.24715487e-04,  3.33185657e-05],\n",
       "       [ 1.16176854e-03, -9.62450182e-02, -7.23562921e-03,\n",
       "         7.64972808e-03,  2.06508992e-03, -1.43941695e-02,\n",
       "        -6.80797572e-03, -6.83936210e-02,  4.34143503e-05,\n",
       "         1.62273541e-01,  1.92219840e-02, -1.49808017e-05,\n",
       "         5.34356229e-02,  1.28688884e-02,  1.24196426e-02,\n",
       "         4.19561383e-04, -2.76877740e-03, -5.00363295e-03,\n",
       "         1.30417900e-04, -1.50669929e-04],\n",
       "       [-7.38740766e-04,  9.93065580e-02,  5.22636955e-03,\n",
       "        -1.95617459e-02,  9.67857985e-04,  2.06876629e-02,\n",
       "         3.12498937e-02,  6.74661549e-02,  6.46969863e-06,\n",
       "        -1.36007493e-01,  6.05673665e-02, -2.80585942e-04,\n",
       "        -2.84766036e-02, -1.18083381e-02, -9.90762071e-03,\n",
       "        -2.31714146e-03,  2.19544817e-03,  9.96680578e-04,\n",
       "         1.40984199e-04,  2.36676321e-04]])"
      ]
     },
     "execution_count": 43,
     "metadata": {},
     "output_type": "execute_result"
    }
   ],
   "source": [
    "model.coef_"
   ]
  },
  {
   "cell_type": "code",
   "execution_count": 44,
   "id": "479fdb79",
   "metadata": {},
   "outputs": [
    {
     "data": {
      "text/plain": [
       "array([ 4.73903189e-05, -1.09692254e-04, -1.88118120e-03,  1.94348314e-03])"
      ]
     },
     "execution_count": 44,
     "metadata": {},
     "output_type": "execute_result"
    }
   ],
   "source": [
    "model.intercept_"
   ]
  },
  {
   "cell_type": "code",
   "execution_count": null,
   "id": "310463b6",
   "metadata": {},
   "outputs": [],
   "source": []
  }
 ],
 "metadata": {
  "kernelspec": {
   "display_name": "Python 3",
   "language": "python",
   "name": "python3"
  },
  "language_info": {
   "codemirror_mode": {
    "name": "ipython",
    "version": 3
   },
   "file_extension": ".py",
   "mimetype": "text/x-python",
   "name": "python",
   "nbconvert_exporter": "python",
   "pygments_lexer": "ipython3",
   "version": "3.8.8"
  }
 },
 "nbformat": 4,
 "nbformat_minor": 5
}
